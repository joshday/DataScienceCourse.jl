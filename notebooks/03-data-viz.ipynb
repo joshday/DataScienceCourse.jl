{
 "cells": [
  {
   "cell_type": "markdown",
   "metadata": {},
   "source": [
    "# Data Vizualization\n",
    "\n",
    "> The greatest value of a picture is when it forces us to notice what we never expected to see.\n",
    "\n",
    "\\- John Tukey\n",
    "\n",
    "Data visualization is used throughout the data science workflow.  It's used for everything from identifying simple relationships between variables to understanding how hyper-parameters affect model performance.  This course module will focus on exploratory data analysis using visualizations.\n",
    "\n",
    "Note that Julia does not have a built-in plotting library, but there are many to choose from:\n",
    "\n",
    "- [**`Gadfly`**](https://github.com/GiovineItalia/Gadfly.jl)\n",
    "- [**`GR`**](https://github.com/jheinen/GR.jl)\n",
    "- [**`PGFPlotsX`**](https://github.com/KristofferC/PGFPlotsX.jl)\n",
    "- [**`PlotlyJS`**](https://github.com/sglyon/PlotlyJS.jl)\n",
    "- [**`Plots`**](https://github.com/JuliaPlots/Plots.jl)\n",
    "- [**`PyPlot`**](https://github.com/JuliaPy/PyPlot.jl)\n",
    "- [**`UnicodePlots`**](https://github.com/Evizero/UnicodePlots.jl)\n",
    "- [**`Winston`**](https://github.com/JuliaGraphics/Winston.jl)\n",
    "\n",
    "If you are new to Julia, this may be an overwhelming number of options.  We highly recommend the **`Plots`** package, as it is a great option for both newcomers and power users.  This course module uses **`Plots`** and its related packages."
   ]
  },
  {
   "cell_type": "markdown",
   "metadata": {},
   "source": [
    "# What is [Plots.jl](https://github.com/JuliaPlots/Plots.jl)?\n",
    "\n",
    "![](https://raw.githubusercontent.com/JuliaPlots/PlotReferenceImages.jl/master/PlotDocs/index/lorenz_attractor.gif)\n",
    "\n",
    "**`Plots`** defines an interface for plotting that works with multiple plotting libraries \"backends\", including **`PyPlot`**, **`GR`**, and **`UnicodePlots`**.  It allows you to switch between backends, making it painless to go from an interactive javascript plot to something print-ready.  Let's get started with some of the core **`Plots`** concepts."
   ]
  },
  {
   "cell_type": "code",
   "execution_count": null,
   "metadata": {},
   "outputs": [],
   "source": [
    "using Plots\n",
    "gr()  # set the backend as GR"
   ]
  },
  {
   "cell_type": "markdown",
   "metadata": {},
   "source": [
    "The `plot` function has many different methods."
   ]
  },
  {
   "cell_type": "code",
   "execution_count": null,
   "metadata": {},
   "outputs": [],
   "source": [
    "p1 = plot(rand(10))             # y variable only\n",
    "p2 = plot(-5:4, rand(10))       # x and y variables\n",
    "p3 = plot(rand(10, 3))          # multiple y variables (each column)\n",
    "p4 = plot(-5:4, rand(10, 3))    # x and multiple y variables\n",
    "\n",
    "plot(p1, p2, p3, p4)            # join plots into subplots"
   ]
  },
  {
   "cell_type": "markdown",
   "metadata": {},
   "source": [
    "There are many attributes available to change via keyword arguments."
   ]
  },
  {
   "cell_type": "code",
   "execution_count": null,
   "metadata": {},
   "outputs": [],
   "source": [
    "plot(rand(10), seriestype = :scatter, markersize = 5, markercolor = :black)"
   ]
  },
  {
   "cell_type": "markdown",
   "metadata": {},
   "source": [
    "## Series Types\n",
    "\n",
    "One of the most important keyword arguments to `plot` is `seriestype`, as it determines how the input data is turned into a plot.  For convenience, a `seriestype` also has a function of the same name:"
   ]
  },
  {
   "cell_type": "code",
   "execution_count": null,
   "metadata": {},
   "outputs": [],
   "source": [
    "y = rand(10)\n",
    "\n",
    "scatter(y)  # same as plot(y, seriestype = :scatter)"
   ]
  },
  {
   "cell_type": "markdown",
   "metadata": {},
   "source": [
    "## Argument Aliases\n",
    "\n",
    "**Plots** supports \"aliases\" for keyword arguments for fast interactive creation of plots.  You typically don't need to keep checking the documentation for the exact keyword.  Aliases are intuitive and you'll often be able to guess the correct syntax."
   ]
  },
  {
   "cell_type": "code",
   "execution_count": null,
   "metadata": {},
   "outputs": [],
   "source": [
    "plot(y, markershape = :circle)"
   ]
  },
  {
   "cell_type": "code",
   "execution_count": null,
   "metadata": {},
   "outputs": [],
   "source": [
    "plot(y, m = :circle)"
   ]
  },
  {
   "cell_type": "markdown",
   "metadata": {},
   "source": [
    "## Magic Arguments\n",
    "\n",
    "*Magic arguments* is one of **`Plots`**' unique features.  Certain keyword arguments act like \"magic\" where by providing a tuple, Plots intelligently maps the items to the corresponding plot element.  For example, by providing `marker = (5, .3, :auto)`, the marker size is set as 5, the marker alpha as .3, and the marker shape is automatically determined.  Note that we can also use the alias `m` rather than `marker`:"
   ]
  },
  {
   "cell_type": "code",
   "execution_count": null,
   "metadata": {},
   "outputs": [],
   "source": [
    "scatter(randn(10, 3), m = (5, .3, :auto))"
   ]
  },
  {
   "cell_type": "markdown",
   "metadata": {},
   "source": [
    "## Plotting from datasets\n",
    "\n",
    "Let's now use what we've learned about **`Plots`** to explore the `mtcars` dataset, extracted from a 1974 issue of of *Motor Trend* Magazine.  The variables included are:\n",
    "\n",
    "- `Model`: Make and model of the car\n",
    "- `MPG`: Miles per gallon\n",
    "- `Cyl`: Number of Cylinders\n",
    "- `Disp`: Displacement (cubic inches)\n",
    "- `HP`: Gross horsepower\n",
    "- `DRat`: Rear axle ratio\n",
    "- `WT`: Weight (in 1000s lbs.)\n",
    "- `QSec`: Quarter mile time\n",
    "- `VS`: Engine type, V-shaped (0) or straight (1)\n",
    "- `AM`: Transmission, Automatic (0) or manual (1)\n",
    "- `Gear`: Number of forward gears\n",
    "- `Carb`: Number of carburetors"
   ]
  },
  {
   "cell_type": "code",
   "execution_count": null,
   "metadata": {},
   "outputs": [],
   "source": [
    "using RDatasets\n",
    "\n",
    "mtcars = dataset(\"datasets\", \"mtcars\")"
   ]
  },
  {
   "cell_type": "markdown",
   "metadata": {},
   "source": [
    "First, let's `describe` the data."
   ]
  },
  {
   "cell_type": "code",
   "execution_count": null,
   "metadata": {},
   "outputs": [],
   "source": [
    "describe(mtcars)"
   ]
  },
  {
   "cell_type": "markdown",
   "metadata": {},
   "source": [
    "What's the relationship between miles per gallon and horsepower?"
   ]
  },
  {
   "cell_type": "code",
   "execution_count": null,
   "metadata": {},
   "outputs": [],
   "source": [
    "scatter(mtcars.MPG, mtcars.HP, xlab=\"MPG\", ylab = \"HP\")"
   ]
  },
  {
   "cell_type": "markdown",
   "metadata": {},
   "source": [
    "The `dataframe.column` syntax isn't always convenient for making complex visualizations.  The **`StatsPlots`** package adds a number of features to **`Plots`** for creating statistical graphics.  One of its main features is the `@df` macro that allows you to reference columns of a data table by name inside of a call to `plot`"
   ]
  },
  {
   "cell_type": "code",
   "execution_count": null,
   "metadata": {},
   "outputs": [],
   "source": [
    "using StatsPlots\n",
    "\n",
    "@df mtcars corrplot([:MPG :Cyl :HP :AM], bins=25, grid=false)"
   ]
  },
  {
   "cell_type": "markdown",
   "metadata": {},
   "source": [
    "Now let's look at the distribution of `MPG` across `Cyl` using a [violin plot](https://en.wikipedia.org/wiki/Violin_plot)."
   ]
  },
  {
   "cell_type": "code",
   "execution_count": null,
   "metadata": {},
   "outputs": [],
   "source": [
    "@df mtcars violin(:Cyl, :HP, legend = :topleft, xlab=\"Cyl\", ylab = \"HP\")"
   ]
  },
  {
   "cell_type": "markdown",
   "metadata": {},
   "source": [
    "**`Plots`** objects can also be mutated with additional data series.  Let's now overlap [box plots](https://en.wikipedia.org/wiki/Box_plot) of the same data, using the `alpha` keyword argument to make the box plots transparent."
   ]
  },
  {
   "cell_type": "code",
   "execution_count": null,
   "metadata": {},
   "outputs": [],
   "source": [
    "@df mtcars boxplot!(:Cyl, :HP, alpha = .5)"
   ]
  }
 ],
 "metadata": {
  "kernel_info": {
   "name": "julia-1.1"
  },
  "kernelspec": {
   "display_name": "Julia 1.1.0",
   "language": "julia",
   "name": "julia-1.1"
  },
  "language_info": {
   "file_extension": ".jl",
   "mimetype": "application/julia",
   "name": "julia",
   "version": "1.1.0"
  },
  "nteract": {
   "version": "0.14.0"
  }
 },
 "nbformat": 4,
 "nbformat_minor": 3
}
