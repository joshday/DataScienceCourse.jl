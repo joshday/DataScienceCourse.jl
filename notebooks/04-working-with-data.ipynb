{
 "cells": [
  {
   "cell_type": "markdown",
   "metadata": {},
   "source": [
    "# Working with Data\n",
    "\n",
    "> Data is the new oil. It’s valuable, but if unrefined it cannot really be used. It has to be changed into gas, plastic, chemicals, etc to create a valuable entity that drives profitable activity; so must data be broken down, analyzed for it to have value.\n",
    "\n",
    "\\- Clive Humbly, 2006\n",
    "\n",
    "There are several great packages for working with tabular data in Julia.  We have already seen a little bit of **`DataFrames`**, but we will focus on **`JuliaDB`** in this course module.  \n",
    "\n",
    "Many of the reasons one would choose **`JuliaDB`** instead of **`DataFrames`** (and vice versa) are simply personal preference.  Most packages that integrate with tabular data, such as **`StatsPlots`**, work equally well with both!  Next we will highlight some important differences between JuliaDB and DataFrames to help you decide which to use in your next project.\n",
    "\n",
    "## JuliaDB vs. DataFrames\n",
    "\n",
    "- In JuliaDB, each table is its own type.  \n",
    "    - This means table operations are in general very fast, but you hit JIT compilation costs more often.\n",
    "- JuliaDB offers some parallel processing support (including [OnlineStats.jl](https://github.com/joshday/OnlineStats.jl) integration) that provides nice [speedups in some cases](https://github.com/JuliaDB/JuliaDB_Benchmarks#simulatedjl).\n",
    "\n",
    "# [JuliaDB](https://github.com/JuliaComputing/JuliaDB.jl)\n",
    "\n",
    "<img src = \"https://user-images.githubusercontent.com/25916/36773410-843e61b0-1c7f-11e8-818b-3edb08da8f41.png\" style=\"margin:auto;width:30%\">\n",
    "\n",
    "We will cover the basic functionality of **`JuliaDB`** through an example.  Let's use the **`RDatasets`** package to load the `diamonds` dataset, a collection of measurements on the quality of ~54,000 diamonds.  The variables include:\n",
    "\n",
    "- Carat: weight of the diamond\n",
    "- Cut: quality of the cut (Fair, Good, Very Good, Premium, Ideal)\n",
    "- Color: diamond color, from F to D (worst to best)\n",
    "- Clarity: categorization of clarity with values (worst to best) I1, SI2, SI1, VS2, VS1, VVS2, VVS1, IF\n",
    "- Depth: total depth percentage = Z / mean(X, Y)\n",
    "- Table: width of diamond's top relative to widest point\n",
    "- Price: price in $US\n",
    "- X: length\n",
    "- Y: width\n",
    "- Z: depth\n",
    "\n",
    "The **`RDatasets`** package loads datasets as a `DataFrame`, but fortunately the data structures provided by **`DataFrames`** and **`JuliaDB`** can be easily converted back and forth.  A `DataFrame` can be converted to a `NextTable` (one of the core **`JuliaDB`** tabular data structures) with the `table` function."
   ]
  },
  {
   "cell_type": "code",
   "execution_count": null,
   "metadata": {},
   "outputs": [],
   "source": [
    "using JuliaDB\n",
    "import RDatasets\n",
    "\n",
    "df = RDatasets.dataset(\"ggplot2\", \"diamonds\")\n",
    "\n",
    "t = table(df)"
   ]
  },
  {
   "cell_type": "markdown",
   "metadata": {},
   "source": [
    "## Selecting Columns\n",
    "\n",
    "**`JuliaDB`** has many methods for selecting columns via the `select` function:"
   ]
  },
  {
   "cell_type": "code",
   "execution_count": null,
   "metadata": {},
   "outputs": [],
   "source": [
    "select(t, 1)  # select the column as position 1 (:Carat)\n",
    "select(t, :Carat) # select the column with the given name"
   ]
  },
  {
   "cell_type": "code",
   "execution_count": null,
   "metadata": {},
   "outputs": [],
   "source": [
    "select(t, (1,7))  # select the columns at positions 1 and 7 (:Carat and :Price)\n",
    "select(t, (:Carat, :Price))  # select the columns :Carat and :Price\n",
    "select(t, r\"(Carat|Price)\") # select the columns that match a regular expression"
   ]
  },
  {
   "cell_type": "markdown",
   "metadata": {},
   "source": [
    "## Selecting Rows\n",
    "\n",
    "Rows are selected based on some criteria with the `filter` function.  The first argument is a function which is then applied to whatever is selected by the `select` keyword argument.  Any valid selection via the `select` function (Integers, column names as Symbols, Regexes, etc.) can be used.\n",
    "\n",
    "Note that if you select a single column, the function is applied to each element of that column and a regular vector is returned.  If the selection selects multiple columns, then the function is applied to each row of the subsetted table (as a NamedTuple) and a table is returned."
   ]
  },
  {
   "cell_type": "code",
   "execution_count": null,
   "metadata": {},
   "outputs": [],
   "source": [
    "filter(x -> x > .7, t; select = :Carat)  # function applied to Vector"
   ]
  },
  {
   "cell_type": "code",
   "execution_count": null,
   "metadata": {},
   "outputs": [],
   "source": [
    "filter(x -> x.Carat > .7, t; select = r\"(Carat|Price)\")  # function applied to NamedTuples of rows"
   ]
  },
  {
   "cell_type": "markdown",
   "metadata": {},
   "source": [
    "## Grouping\n",
    "\n",
    "A common table operation is to summarize a column across the groups in a different column.  With the `groupby` function , here we are calculating the average `:Price` for each level of `:Cut`."
   ]
  },
  {
   "cell_type": "code",
   "execution_count": null,
   "metadata": {},
   "outputs": [],
   "source": [
    "using Statistics\n",
    "\n",
    "groupby(mean, t, :Cut; select = :Price)"
   ]
  },
  {
   "cell_type": "markdown",
   "metadata": {},
   "source": [
    "It is necessary for groupby operations to allocate temporary vectors (one per group).  What if we could perform a groupby operation without allocating?  First consider the `reduce` function, which applies a pairwise function to the rows of a table."
   ]
  },
  {
   "cell_type": "code",
   "execution_count": null,
   "metadata": {},
   "outputs": [],
   "source": [
    "reduce(+, t; select=:Price)  # Sum of prices for all diamonds in the dataset"
   ]
  },
  {
   "cell_type": "markdown",
   "metadata": {},
   "source": [
    "The `groupreduce` function will apply a pairwise function across the groups of a different variable, similar to `groupby`:"
   ]
  },
  {
   "cell_type": "code",
   "execution_count": null,
   "metadata": {},
   "outputs": [],
   "source": [
    "groupreduce(+, t, :Cut; select = :Price)"
   ]
  },
  {
   "cell_type": "markdown",
   "metadata": {},
   "source": [
    "The drawback is that the function argument for `reduce` and `groupreduce` must work on two items at a time.  To help alleviate this requirement, **`JuliaDB`** integrates with [**`OnlineStats`**](https://github.com/joshday/OnlineStats.jl), a package that provides parallelizable single-pass algorithms for statistics.  `OnlineStat` objects can be provided to both `reduce` and `groupreduce`, which opens up a wide variety of statistical calculations without the need for temporary allocations."
   ]
  },
  {
   "cell_type": "code",
   "execution_count": null,
   "metadata": {},
   "outputs": [],
   "source": [
    "using OnlineStats\n",
    "\n",
    "reduce(Sum(Int), t; select = :Price)"
   ]
  },
  {
   "cell_type": "code",
   "execution_count": null,
   "metadata": {},
   "outputs": [],
   "source": [
    "groupreduce(Sum(Int), t, :Cut; select = :Price)"
   ]
  },
  {
   "cell_type": "markdown",
   "metadata": {},
   "source": [
    "Many `OnlineStat` objects are also plottable with **`Plots`**.  Here we will plot a histogram with the `Hist` stat.  We can see that diamonds are often cut down to be a \"nice\" carat size."
   ]
  },
  {
   "cell_type": "code",
   "execution_count": null,
   "metadata": {},
   "outputs": [],
   "source": [
    "using Plots\n",
    "\n",
    "o = reduce(Hist(0:.01:1), t; select = :Carat)\n",
    "\n",
    "plot(o)"
   ]
  }
 ],
 "metadata": {
  "kernel_info": {
   "name": "julia-1.1"
  },
  "kernelspec": {
   "display_name": "Julia 1.1.0",
   "language": "julia",
   "name": "julia-1.1"
  },
  "language_info": {
   "file_extension": ".jl",
   "mimetype": "application/julia",
   "name": "julia",
   "version": "1.1.0"
  },
  "nteract": {
   "version": "0.14.0"
  }
 },
 "nbformat": 4,
 "nbformat_minor": 3
}
