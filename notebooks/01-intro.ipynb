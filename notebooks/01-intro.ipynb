{
 "cells": [
  {
   "cell_type": "markdown",
   "metadata": {},
   "source": [
    "# A Primer on Data Science in Julia\n",
    "\n",
    "> The key word in data science is not “data”; it is “science”.\n",
    ">\n",
    "> \\- [Jeff Leek, simplystatistics.org](https://simplystatistics.org/2013/12/12/the-key-word-in-data-science-is-not-data-it-is-science/)\n",
    "\n",
    "# What is Data Science?\n",
    "\n",
    "The term **data science** is a relatively new term used to describe a variety of cross-discipline tasks that cover statistics, mathematics, computer science, data visualization, and information science.  Because of the wide variety of tasks involved, the role of a \"data scientist\" may differ greatly between organizations.  At a high level, data science is the collection of activities that help one move upword in the [DIKW Pyramid](https://en.wikipedia.org/wiki/DIKW_pyramid), shown below:\n",
    "\n",
    "![](assets/dikw_pyramid.png)\n",
    "\n",
    "**How do we get from data to knowledge/wisdom?**\n",
    "\n",
    "Movement up the pyramid happens in incremental steps.  Sometimes you'll have an \"aha!\" moment and make a leap in understanding, but that is typically due to the previous information you've gathered.  To aid with the task of incremental knowledge-building, the data science workflow is made up of the following steps:\n",
    "\n",
    "1. **Define** Your Objective\n",
    "2. **Explore** Your Data\n",
    "3. **Model** Your Data\n",
    "4. **Evaluate** Your Model\n",
    "5. **Communicate** Your Results\n",
    "\n",
    "# Course Objectives\n",
    "\n",
    "After taking this course, you will be able to\n",
    "\n",
    "- Load data into Julia/save data to disk\n",
    "- Explore the data with descriptive statistics\n",
    "- Create common data visualizations\n",
    "- Use a variety of data science-focused Julia packages, including **`Statistics`**, **`StatsBase`**, **`RDatasets`**, **`DataFrames`**, **`JuliaDB`**, **`Plots`**/**`StatsPlots`**, **`AverageShiftedHistograms`**, **`KernelDensity`**, and more.\n",
    "\n"
   ]
  }
 ],
 "metadata": {
  "kernelspec": {
   "display_name": "Julia 1.1.0",
   "language": "julia",
   "name": "julia-1.1"
  },
  "language_info": {
   "file_extension": ".jl",
   "mimetype": "application/julia",
   "name": "julia",
   "version": "1.1.0"
  }
 },
 "nbformat": 4,
 "nbformat_minor": 2
}
