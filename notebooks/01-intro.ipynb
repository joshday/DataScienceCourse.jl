{
 "cells": [
  {
   "cell_type": "markdown",
   "metadata": {},
   "source": [
    "# A Primer on Data Science in Julia\n",
    "\n",
    "> The key word in data science is not “data”; it is “science”.\n",
    "\n",
    "\\- [Jeff Leek, simplystatistics.org](https://simplystatistics.org/2013/12/12/the-key-word-in-data-science-is-not-data-it-is-science/)\n",
    "\n",
    "# What is Data Science?\n",
    "\n",
    "The term **data science** is a relatively new term used to describe a variety of cross-discipline tasks that cover statistics, mathematics, computer science, data visualization, and information science.  Because of the wide variety of tasks involved, the role of a \"data scientist\" may differ greatly between organizations.  At a high level, data science is the collection of activities that help one move upword in the [DIKW Pyramid](https://en.wikipedia.org/wiki/DIKW_pyramid), shown below:\n",
    "\n",
    "<img src=\"https://user-images.githubusercontent.com/8075494/56751617-7f2bc700-6754-11e9-8e79-0c955429964e.png\" style=\"margin: auto; width: 50%\">\n",
    "\n",
    "## How do we get from data to knowledge/wisdom?\n",
    "\n",
    "Movement up the pyramid happens in incremental steps.  Discoveries and \"Aha!\" moments require putting in some work.  A typical data science workflow for making discoveries is made up of the following steps:\n",
    "\n",
    "1. **Define** Objective\n",
    "2. **Explore** Data\n",
    "3. **Model** Phenomenon\n",
    "4. **Evaluate** Model\n",
    "5. **Communicate** Results\n",
    "\n",
    "This course will cover the tools in Julia for moving through the data science workflow to aid in discovering wisdom from data.\n",
    "\n",
    "# Course Objectives\n",
    "\n",
    "After taking this course, you will be able to\n",
    "\n",
    "- Load data into Julia/save data to disk\n",
    "- Explore the data with descriptive statistics\n",
    "- Create common data visualizations\n",
    "- Use a variety of data science-focused Julia packages, including **`Statistics`**, **`StatsBase`**, **`RDatasets`**, **`DataFrames`**, **`Plots`**/**`StatsPlots`**, **`AverageShiftedHistograms`**, **`KernelDensity`**, and more.\n",
    "\n"
   ]
  }
 ],
 "metadata": {
  "kernel_info": {
   "name": "julia-1.1"
  },
  "kernelspec": {
   "display_name": "Julia 1.1.0",
   "language": "julia",
   "name": "julia-1.1"
  },
  "language_info": {
   "file_extension": ".jl",
   "mimetype": "application/julia",
   "name": "julia",
   "version": "1.1.0"
  },
  "nteract": {
   "version": "0.14.2"
  }
 },
 "nbformat": 4,
 "nbformat_minor": 2
}
